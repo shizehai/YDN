{
 "cells": [
  {
   "cell_type": "code",
   "execution_count": 4,
   "metadata": {},
   "outputs": [
    {
     "data": {
      "text/plain": [
       "(235, 'Authentication successful')"
      ]
     },
     "execution_count": 4,
     "metadata": {},
     "output_type": "execute_result"
    }
   ],
   "source": [
    "import smtplib\n",
    "from email.mime.text import MIMEText\n",
    "        # mailer = MailSender.from_settings(settings)\n",
    "        # mailer = MailSender(\n",
    "        #     smtphost=\"smtp.qq.com\",  # 发送邮件的服务器\n",
    "        #     mailfrom=\"mrsaturday@qq.com\",  # 邮件发送者\n",
    "        #     smtpuser=\"mrsaturday@qq.com\",  # 用户名\n",
    "        #     smtppass=\"eraifeufwrrmbdec\",  # 发送邮箱的密码不是你注册时的密码，而是授权码\n",
    "        #     smtpport=465  # 端口号\n",
    "        # )\n",
    "body =  MIMEText(\"速回ppppp\")\n",
    "\n",
    "subject = u'发送的邮件标题'\n",
    "\n",
    "# mailer.send(to=[\"845669997@qq.com\",], subject=subject.encode(\"utf-8\"), body=body.encode(\"utf-8\"))\n",
    "smtphost = \"smtp.qq.com\"  # 发送邮件的服务器\n",
    "mailfrom = \"mrsaturday@qq.com\"  # 邮件发送者\n",
    "smtpuser = \"mrsaturday@qq.com\"  # 用户名\n",
    "smtppass = \"eraifeufwrrmbdec\"  # 发送邮箱的密码不是你注册时的密码，而是授权码\n",
    "smtpport = 25  # 端口号\n",
    "smtpObj = smtplib.SMTP_SSL(smtphost, 465)  \n",
    "# smtpObj.connect(smtphost, smtpport)  # 25 为 SMTP 端口号\n",
    "smtpObj.login(smtpuser, smtppass)"
   ]
  },
  {
   "cell_type": "code",
   "execution_count": 5,
   "metadata": {},
   "outputs": [
    {
     "data": {
      "text/plain": [
       "{}"
      ]
     },
     "execution_count": 5,
     "metadata": {},
     "output_type": "execute_result"
    }
   ],
   "source": [
    "smtpObj.sendmail(mailfrom, to_addrs='845669997@qq.com',msg=body.as_string())"
   ]
  },
  {
   "cell_type": "code",
   "execution_count": null,
   "metadata": {
    "collapsed": true
   },
   "outputs": [],
   "source": [
    "smtpObj = smtplib.SMTP_SSL(mail_host, 465)   \n",
    "  smtpObj.login(mail_user,mail_pass)    \n",
    "  smtpObj.sendmail(sender, receivers, message.as_string())  \n",
    "  smtpObj.quit()  "
   ]
  }
 ],
 "metadata": {
  "kernelspec": {
   "display_name": "Python 2",
   "language": "python",
   "name": "python2"
  },
  "language_info": {
   "codemirror_mode": {
    "name": "ipython",
    "version": 2
   },
   "file_extension": ".py",
   "mimetype": "text/x-python",
   "name": "python",
   "nbconvert_exporter": "python",
   "pygments_lexer": "ipython2",
   "version": "2.7.13"
  }
 },
 "nbformat": 4,
 "nbformat_minor": 2
}
